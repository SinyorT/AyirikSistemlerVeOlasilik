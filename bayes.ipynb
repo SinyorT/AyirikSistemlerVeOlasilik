{
  "nbformat": 4,
  "nbformat_minor": 0,
  "metadata": {
    "colab": {
      "name": "Untitled7.ipynb",
      "provenance": [],
      "authorship_tag": "ABX9TyMnho0FxraXbqvLxy2mwlXh",
      "include_colab_link": true
    },
    "kernelspec": {
      "name": "python3",
      "display_name": "Python 3"
    }
  },
  "cells": [
    {
      "cell_type": "markdown",
      "metadata": {
        "id": "view-in-github",
        "colab_type": "text"
      },
      "source": [
        "<a href=\"https://colab.research.google.com/github/SinyorT/AyirikSistemlerVeOlasilik/blob/master/bayes.ipynb\" target=\"_parent\"><img src=\"https://colab.research.google.com/assets/colab-badge.svg\" alt=\"Open In Colab\"/></a>"
      ]
    },
    {
      "cell_type": "markdown",
      "metadata": {
        "id": "pTP2XebJeheJ",
        "colab_type": "text"
      },
      "source": [
        "Rastgele seçtiğimiz işsiz bir yetişkinin erkek olma olasılığı nedir?\n",
        "Türkiyede nüfuzun yüzde 50,2’sini erkekler, yüzde 49,8 kadinlar oluşturuyor.\n",
        "\n",
        "İşsizlik oranı erkeklerde yüzde 12,4, kadınlarda yüzde 16,5 dir.\n",
        "\n",
        "Bir kadının işsiz olma olasılığı: P (U | K) = 0,165\n",
        "Bir erkeğin işsiz olma olasılığı: P (U | E) = 0,124\n",
        "\n",
        "Rastgele seçilen bir kişinin P (U) işsiz olması ihtimali \n",
        "\n",
        "\n",
        "*   P (U) = P (K) P (U | K) + P (E) P (U | E)\n",
        "*   P (U) = 0,165 * 0,498+ 0,124 * 0.502=0.144\n",
        "*   P (U)=0.144\n",
        "\n",
        "Rastgele seçtiğimiz işsiz bir yetişkinin erkek olma olasılığı  [P (E | U)]\n",
        "\n",
        " *   P (E | U) = (P (E) * P (U | E) / P (U)) = (0,124 * 0.502) / 0.144 =0.431\n",
        "*   P (E | U) = 0.431\n"
      ]
    },
    {
      "cell_type": "code",
      "metadata": {
        "id": "R3z-Zs9SlTUD",
        "colab_type": "code",
        "colab": {
          "base_uri": "https://localhost:8080/",
          "height": 51
        },
        "outputId": "9187ddae-af01-4999-e9af-607c1c72139b"
      },
      "source": [
        "PK=0.498\n",
        "PE=0.502\n",
        "PUK=0.165\n",
        "PUE=0.124\n",
        "#rastgele seçilen bir kişinin işsiz olma olasilgi\n",
        "PU=PK*PUK+PE*PUE\n",
        "print(PU)\n",
        "#Rastgele seçtiğimiz işsiz bir yetişkinin erkek olma olasılığı\n",
        "def bayes(PE,PUE,PU):\n",
        "  return (PE*PUE)/PU\n",
        "\n",
        "bayes(PE,PUE,PU)"
      ],
      "execution_count": 9,
      "outputs": [
        {
          "output_type": "stream",
          "text": [
            "0.144418\n"
          ],
          "name": "stdout"
        },
        {
          "output_type": "execute_result",
          "data": {
            "text/plain": [
              "0.43102660333199466"
            ]
          },
          "metadata": {
            "tags": []
          },
          "execution_count": 9
        }
      ]
    }
  ]
}