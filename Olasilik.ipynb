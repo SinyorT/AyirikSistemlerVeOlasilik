{
  "nbformat": 4,
  "nbformat_minor": 0,
  "metadata": {
    "colab": {
      "name": "Olasilik.ipynb",
      "provenance": [],
      "collapsed_sections": []
    },
    "kernelspec": {
      "name": "python3",
      "display_name": "Python 3"
    }
  },
  "cells": [
    {
      "cell_type": "code",
      "metadata": {
        "id": "gkQkUwPOBjFo",
        "colab_type": "code",
        "colab": {
          "base_uri": "https://localhost:8080/",
          "height": 34
        },
        "outputId": "35b9f5cb-d2d0-4f06-b86c-3cefee7b827e"
      },
      "source": [
        "#TURKCE HARFLARA UYGUN OLARAK hash KOD URETME  \n",
        "#TURKCE harf           sayısı: 29\n",
        "#rakamn sayisi         sayısı: 10\n",
        "#hash kod uzunlugu     sayısı: 8\n",
        " #toplam karakter = 39 \n",
        " #hash kod uzunlug =8\n",
        "import math \n",
        "def permutasyonHashKod(t,u):\n",
        "    hashKodSayi=math.factorial(t)/(math.factorial(t-u))\n",
        "    return (str(hashKodSayi)+\"  Sayisi kadar hash kod uretile bilir\")\n",
        "\n",
        "permutasyonHashKod(39,8)\n"
      ],
      "execution_count": 23,
      "outputs": [
        {
          "output_type": "execute_result",
          "data": {
            "text/plain": [
              "'2480637519360.0  Sayisi kadar hash kod uretile bilir'"
            ]
          },
          "metadata": {
            "tags": []
          },
          "execution_count": 23
        }
      ]
    }
  ]
}