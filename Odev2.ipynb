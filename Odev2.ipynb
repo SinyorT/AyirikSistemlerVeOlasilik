{
  "nbformat": 4,
  "nbformat_minor": 0,
  "metadata": {
    "colab": {
      "name": "Untitled6.ipynb",
      "provenance": [],
      "collapsed_sections": [],
      "authorship_tag": "ABX9TyOUimWxtrMKmqHT45Ao46F8",
      "include_colab_link": true
    },
    "kernelspec": {
      "name": "python3",
      "display_name": "Python 3"
    }
  },
  "cells": [
    {
      "cell_type": "markdown",
      "metadata": {
        "id": "view-in-github",
        "colab_type": "text"
      },
      "source": [
        "<a href=\"https://colab.research.google.com/github/SinyorT/AyirikSistemlerVeOlasilik/blob/master/Odev2.ipynb\" target=\"_parent\"><img src=\"https://colab.research.google.com/assets/colab-badge.svg\" alt=\"Open In Colab\"/></a>"
      ]
    },
    {
      "cell_type": "markdown",
      "metadata": {
        "id": "plzoh7zaVNJj",
        "colab_type": "text"
      },
      "source": [
        "# **Ödev 2 : Kombinasyon**\n",
        "**Soru :**\n",
        "Milli Piyango da 6 haneli rakamlarin 4 tanesi  geldikden sonra son 2 rakamlarin dogru gelme olasiligi nedir?\n",
        "\n",
        "**Çözüm :**\n",
        "Torbada toplam taş = 100  ama 4  tanesini çıkdıkdan sonra 96 taş kalıyor o zaman\n",
        "\n",
        "                                                       Torbada toplam taş :96\n",
        "                                                       Beklenen           :2\n",
        "                                                       Beklenmeyen        :94\n",
        "                                                       Rastgele seçilen   :2\n",
        "\n",
        "Seçilen 2 taşın yanlış olması ihtimalini 1'den çıkardığımızda aradığımız sonucu bulacağız.\n",
        "\n",
        "**Toplam taş içinden 2 taşın seçilmesi**\n",
        "\n",
        "                                                      Örnek Uzay = combination(96,2) \n",
        "\n",
        "**Beklenmeyen taşlar içinden 2 taşın seçilmesi**\n",
        "\n",
        "                                                      Olay Uzayı = combination(94,2) \n",
        "\n",
        "**Sonuç**\n",
        "\n",
        "                                                      Sonuç = 1 - (Olay Uzayı / Örnek Uzay)\n",
        "\n",
        "\n",
        "\n",
        "$$ P(A) + P'(A) = 1$$ \n",
        "$$ P(A) = 1 - P'(A)$$ \n",
        "$$ P'(A) = \\frac{C(94,2)}{C(96,2)} = 0.9585526315789473 $$\n",
        "$$ P(A) = 1 - 0.9585526315789473 = 0.04144736842105268 $$\n",
        "**Yüzde ile**\n",
        "\n",
        "                                                      P(A) = 4.144736842105267%"
      ]
    },
    {
      "cell_type": "code",
      "metadata": {
        "id": "L5PzLihNVNzT",
        "colab_type": "code",
        "colab": {
          "base_uri": "https://localhost:8080/",
          "height": 34
        },
        "outputId": "54e238f8-6a57-4217-faaf-fea523d26897"
      },
      "source": [
        "def factorial(i):\n",
        "    if i==1:       \n",
        "        return 1\n",
        "    else: \n",
        "        return i * factorial(i-1)\n",
        "    \n",
        "def combination(j,k):\n",
        "    i = 0\n",
        "    if k>j:        \n",
        "        i = i\n",
        "    else:      \n",
        "        i =  i = factorial(j)/(factorial(j-k)*factorial(k))\n",
        "        return i\n",
        "sonuc= 1-combination(94,2)/combination(96,2)\n",
        "print(sonuc*100,'%')"
      ],
      "execution_count": 14,
      "outputs": [
        {
          "output_type": "stream",
          "text": [
            "4.144736842105267 %\n"
          ],
          "name": "stdout"
        }
      ]
    }
  ]
}