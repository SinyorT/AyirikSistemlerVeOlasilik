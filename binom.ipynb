{
  "nbformat": 4,
  "nbformat_minor": 0,
  "metadata": {
    "colab": {
      "name": "Untitled8.ipynb",
      "provenance": [],
      "collapsed_sections": [],
      "authorship_tag": "ABX9TyMrT7eRosCazl7HlFmjKR/P",
      "include_colab_link": true
    },
    "kernelspec": {
      "name": "python3",
      "display_name": "Python 3"
    }
  },
  "cells": [
    {
      "cell_type": "markdown",
      "metadata": {
        "id": "view-in-github",
        "colab_type": "text"
      },
      "source": [
        "<a href=\"https://colab.research.google.com/github/SinyorT/AyirikSistemlerVeOlasilik/blob/master/binom.ipynb\" target=\"_parent\"><img src=\"https://colab.research.google.com/assets/colab-badge.svg\" alt=\"Open In Colab\"/></a>"
      ]
    },
    {
      "cell_type": "markdown",
      "metadata": {
        "id": "m6fVeEAmm6Sm",
        "colab_type": "text"
      },
      "source": [
        "\n",
        "\n",
        "**Odev Binomial**\n",
        "\n"
      ]
    },
    {
      "cell_type": "markdown",
      "metadata": {
        "id": "X9Qr93cvhEkf",
        "colab_type": "text"
      },
      "source": [
        "Her hangi bir Diyabet firmasi geliştirdiği ürünü potensial müşteriye ulaşitrmak için telefon görüşmeleri yapiyor.Bilinen istatistik 2018 Türkiyedeki yetişkinlerin 15.4%  diyabet hastası var. 50 çağrıdan en az 5 müşterinin diyabet hastası olma olasılığı nedir?\n",
        "\n",
        "n = 50, \n",
        "k = 5, \n",
        "p = 0.154\n",
        "$$ P(X=k) = n \\choose k  *  p^{k} (1-p)^{n-k}, k = 0,1,..,10 $$ \n",
        "Sonuç: 3.774 "
      ]
    },
    {
      "cell_type": "code",
      "metadata": {
        "id": "OYrfjCosmDri",
        "colab_type": "code",
        "colab": {
          "base_uri": "https://localhost:8080/",
          "height": 34
        },
        "outputId": "9546b3e7-2a96-4fc9-a1bb-be6a280ecdc0"
      },
      "source": [
        "from math import factorial as fac\n",
        "\n",
        "def binomial(n, k, p):\n",
        "    return round( ( fac(n) / ( fac(k) * fac(n-k) ) ) * (p**k) * (1-p)**(n-k) , 5)*100\n",
        "\n",
        "binomial(100,10,0.154)"
      ],
      "execution_count": 17,
      "outputs": [
        {
          "output_type": "execute_result",
          "data": {
            "text/plain": [
              "3.7740000000000005"
            ]
          },
          "metadata": {
            "tags": []
          },
          "execution_count": 17
        }
      ]
    }
  ]
}