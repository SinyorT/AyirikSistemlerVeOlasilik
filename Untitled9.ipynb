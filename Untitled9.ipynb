{
  "nbformat": 4,
  "nbformat_minor": 0,
  "metadata": {
    "colab": {
      "name": "Untitled9.ipynb",
      "provenance": [],
      "authorship_tag": "ABX9TyPW7Ux9IJ4G6/iJPuoV1hi1",
      "include_colab_link": true
    },
    "kernelspec": {
      "name": "python3",
      "display_name": "Python 3"
    }
  },
  "cells": [
    {
      "cell_type": "markdown",
      "metadata": {
        "id": "view-in-github",
        "colab_type": "text"
      },
      "source": [
        "<a href=\"https://colab.research.google.com/github/SinyorT/AyirikSistemlerVeOlasilik/blob/master/Untitled9.ipynb\" target=\"_parent\"><img src=\"https://colab.research.google.com/assets/colab-badge.svg\" alt=\"Open In Colab\"/></a>"
      ]
    },
    {
      "cell_type": "markdown",
      "metadata": {
        "id": "pmzWYlxJBNiM",
        "colab_type": "text"
      },
      "source": [
        "**POISSON Dağılımı İle Problem Çözme**\n",
        "\n",
        "Soru:Mahallede 1 haftada kaza ortalaması 5 olan Poisson dağılımına sahipdir.\n",
        "\n",
        "1.  Mahallede en az 3 kaza olma olasiligi nedir?\n",
        "2.  Hic kaza olmama olasiligi nedir?\n",
        "\n",
        "\n"
      ]
    },
    {
      "cell_type": "code",
      "metadata": {
        "id": "FD6fncoFB7XL",
        "colab_type": "code",
        "colab": {}
      },
      "source": [
        "import numpy as np\n",
        "import math"
      ],
      "execution_count": 0,
      "outputs": []
    },
    {
      "cell_type": "code",
      "metadata": {
        "id": "hRHtP_phB_MJ",
        "colab_type": "code",
        "colab": {}
      },
      "source": [
        "def faktoriyel(x):\n",
        "    if x==1:       \n",
        "        return 1\n",
        "    if x==0:\n",
        "        return 1\n",
        "    \n",
        "    else: \n",
        "        return x * faktoriyelHesapla(x-1)"
      ],
      "execution_count": 0,
      "outputs": []
    },
    {
      "cell_type": "code",
      "metadata": {
        "id": "g7XoeWgACDMr",
        "colab_type": "code",
        "colab": {}
      },
      "source": [
        "def Poisson(lamda,x):\n",
        "   return math.exp(-lamda)*pow(lamda,x)/faktoriyel(x)"
      ],
      "execution_count": 0,
      "outputs": []
    },
    {
      "cell_type": "code",
      "metadata": {
        "id": "VbZ2pmHyCUNh",
        "colab_type": "code",
        "colab": {
          "base_uri": "https://localhost:8080/",
          "height": 34
        },
        "outputId": "78d26ca6-3935-4534-8a43-f837c39b3120"
      },
      "source": [
        "A=1-(Poisson(5,2)+Poisson(5,1)+Poisson(5,0)) \n",
        "print(\"En az 3 kaza olma olasiligi: \",A)"
      ],
      "execution_count": 20,
      "outputs": [
        {
          "output_type": "stream",
          "text": [
            "En az 3 kaza olma olasiligi:  0.8753479805169189\n"
          ],
          "name": "stdout"
        }
      ]
    },
    {
      "cell_type": "markdown",
      "metadata": {
        "id": "WFDR3Gz_Fuuz",
        "colab_type": "text"
      },
      "source": [
        ""
      ]
    },
    {
      "cell_type": "code",
      "metadata": {
        "id": "vs_R4PY9CUx6",
        "colab_type": "code",
        "colab": {}
      },
      "source": [
        "B=Poisson(5,0)"
      ],
      "execution_count": 0,
      "outputs": []
    },
    {
      "cell_type": "code",
      "metadata": {
        "id": "QZj1hZ2OFzZ_",
        "colab_type": "code",
        "colab": {
          "base_uri": "https://localhost:8080/",
          "height": 34
        },
        "outputId": "27b55026-1332-42ff-e9ca-e790acb11fe2"
      },
      "source": [
        "print(\"Hic kaza olmama olasiligi: \",B)"
      ],
      "execution_count": 22,
      "outputs": [
        {
          "output_type": "stream",
          "text": [
            "Hic kaza olmama olasiligi:  0.006737946999085467\n"
          ],
          "name": "stdout"
        }
      ]
    },
    {
      "cell_type": "markdown",
      "metadata": {
        "id": "_7yCPQNcBQbq",
        "colab_type": "text"
      },
      "source": [
        ""
      ]
    }
  ]
}